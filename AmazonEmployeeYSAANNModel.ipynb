{
 "cells": [
  {
   "cell_type": "code",
   "execution_count": 125,
   "metadata": {
    "scrolled": false
   },
   "outputs": [
    {
     "name": "stdout",
     "output_type": "stream",
     "text": [
      "İterasyon:0 Maliyet: 11337.620273\n",
      "İterasyon:10 Maliyet: 10665.502005\n",
      "İterasyon:20 Maliyet: 10355.957467\n",
      "İterasyon:30 Maliyet: 10210.955371\n",
      "İterasyon:40 Maliyet: 10142.556985\n",
      "İterasyon:50 Maliyet: 10110.549335\n",
      "İterasyon:60 Maliyet: 10096.116267\n",
      "İterasyon:70 Maliyet: 10090.324871\n",
      "İterasyon:80 Maliyet: 10088.882554\n",
      "İterasyon:90 Maliyet: 10089.697633\n",
      "İterasyon:100 Maliyet: 10091.731131\n",
      "İterasyon:110 Maliyet: 10152.499737\n",
      "İterasyon:120 Maliyet: 10097.064355\n",
      "İterasyon:130 Maliyet: 10077.029870\n",
      "İterasyon:140 Maliyet: 10074.582937\n"
     ]
    },
    {
     "data": {
      "image/png": "[encoded data removed]",
      "text/plain": [
       "<Figure size 432x288 with 1 Axes>"
      ]
     },
     "metadata": {
      "needs_background": "light"
     },
     "output_type": "display_data"
    },
    {
     "name": "stdout",
     "output_type": "stream",
     "text": [
      "train doğruluğu:57.861635220125784 %\n",
      "test doğruluğu:52.5 %\n"
     ]
    }
   ],
   "source": [
    "import pandas as pd\n",
    "import numpy as np\n",
    "import matplotlib.pyplot as plt\n",
    "import seaborn as sn\n",
    "import sys\n",
    "from sklearn.preprocessing import Imputer\n",
    "import numpy\n",
    "numpy.set_printoptions(threshold=sys.maxsize)\n",
    "import warnings\n",
    "from sklearn.neighbors import KNeighborsClassifier\n",
    "from sklearn.ensemble import RandomForestClassifier\n",
    "from sklearn.metrics import roc_curve\n",
    "from sklearn.metrics import roc_auc_score\n",
    "from sklearn.metrics import confusion_matrix\n",
    "# Sürümden kaynaklı hatalı göz ardı etmek için kullanıyoruz.\n",
    "warnings.filterwarnings('ignore')\n",
    "\n",
    "\n",
    "data=pd.read_csv('Atrain2.csv')\n",
    "\n",
    "\n",
    "# verileri x input ve y output olarak ayırıyoruz\n",
    " \n",
    "y = data[\"ACTION\"].values.reshape(-1,1)  #sütun haline getirdik\n",
    "x = data.drop([\"ACTION\",\"MGR_ID\",\"RESOURCE\"],axis=1)\n",
    "\n",
    "#datayı eğitmek ve test için sklearn kutuphanesini kullanarak %80 train,%20 test olarak ayırıyoruz\n",
    "from sklearn.model_selection import train_test_split\n",
    "X_train, X_test, Y_train, Y_test = train_test_split(x, y, test_size=0.2, random_state=42,shuffle=True)\n",
    "\n",
    "\n",
    "\n",
    "# elde ettiğimiz verilerin transposunu alıyoruz\n",
    "# backward ve predict işlemleri yaparken matrix hatasını gidermek için bunu yaptık, forward ı buna göre yeniledik \n",
    "x_train = X_train.T\n",
    "y_train = Y_train.T\n",
    "x_test = X_test.T\n",
    "y_test = Y_test.T\n",
    "\n",
    "\n",
    "#KULLANACAĞIMIZ AKTİVASYON FONKSİYONLARI\n",
    "def tanh(z):\n",
    "    return np.tanh(z)\n",
    "\n",
    "def sigmoid(z):\n",
    "    return 1 / (1 + np.exp(-z))\n",
    "\n",
    "\n",
    "\n",
    "def initialize_weights_and_bias(inputs,layer_size,outputs):\n",
    "    parameters = {\"weight1\": np.random.randn(layer_size,inputs.shape[0]) * 0.01,\n",
    "                  \"bias1\": np.zeros((layer_size,1)),\n",
    "                  \"weight2\": np.random.randn(outputs.shape[0],layer_size) * 0.01,\n",
    "                  \"bias2\": np.zeros((outputs.shape[0],1))\n",
    "                 }\n",
    "    return parameters\n",
    "\n",
    "def forward_propagation(x_train,parameters):\n",
    "    z1=np.dot(parameters[\"weight1\"],x_train)+parameters[\"bias1\"] #inputlar ile weight leri çarpıp biası toplayarak z1'ibulduk.\n",
    "    a1=np.tanh(z1) #tangent activation funcito kullanılarak #hidden layer\n",
    "    z2=np.dot(parameters[\"weight2\"],a1)+parameters[\"bias2\"]\n",
    "    a2=sigmoid(z2) #binary classification yapmak için sigmoid kullandık (0/1 arasında sıkıştırıyor) #output layer \n",
    "    cache={\"z1\":z1,\n",
    "          \"a1\":a1,\n",
    "          \"z2\":z2,\n",
    "          \"a2\":a2\n",
    "          } #update de kullanmak için bunları cache'e atıyoruz\n",
    "\n",
    "    return a2,cache\n",
    "\n",
    "#maliyet hesabı\n",
    "def computeCost(a2,y):\n",
    "    loss=np.multiply(np.log(a2),y)\n",
    "    cost=-np.sum(loss)/y.shape[1]\n",
    "    return cost\n",
    "\n",
    "def backward_propagation(parameters,cache,x,y):\n",
    "    dz2=cache[\"a2\"]-y\n",
    "    dw2=np.dot(dz2,cache[\"a1\"].T)/x.shape[1]\n",
    "    db2=np.sum(dz2,axis=1,keepdims=True)/x.shape[1]\n",
    "    dz1=np.dot(parameters[\"weight2\"].T,dz2)*(1-np.power(cache[\"a1\"],2))\n",
    "    dw1=np.dot(dz1,x.T)/x.shape[1]\n",
    "    db1=np.sum(dz1,axis=1,keepdims=True)/x.shape[1]\n",
    "    grads={\n",
    "        \"dweight1\":dw1,\n",
    "        \"dbias1\":db1,\n",
    "        \"dweight2\":dw2,\n",
    "        \"dbias2\":db2\n",
    "    }\n",
    "    return grads\n",
    "\n",
    "def update_parameters(parameters,grads,learning_rate=0.03):\n",
    "    parameters={\n",
    "        \"weight1\":parameters[\"weight1\"]-learning_rate*grads[\"dweight1\"],\n",
    "        \"bias1\":parameters[\"bias1\"]-learning_rate*grads[\"dbias1\"],\n",
    "        \"weight2\":parameters[\"weight2\"]-learning_rate*grads[\"dweight2\"],\n",
    "        \"bias2\":parameters[\"bias2\"]-learning_rate*grads[\"dbias2\"],\n",
    "    }\n",
    "    return parameters\n",
    "\n",
    "\n",
    "\n",
    "def prediction(parameters,x_test):\n",
    "    \n",
    "    a2,cache =forward_propagation(x_test,parameters)\n",
    "    y_prediction=np.zeros((1,x_test.shape[1]))\n",
    "  \n",
    "    for i in range(cache[\"a2\"].shape[1]):\n",
    "        if cache[\"a2\"][0,i] > 0.5:\n",
    "            y_prediction[0,i]=1\n",
    "        else:\n",
    "            y_prediction[0,i]=0\n",
    "            \n",
    "            \n",
    "    return y_prediction\n",
    "\n",
    "def ikiKatmanlıYsa(x_train,y_train,x_test,y_test,iteration,hidden_layer_size):\n",
    "    costList=[]\n",
    "    indexList=[]\n",
    "    parameters=initialize_weights_and_bias(x_train,hidden_layer_size,y_train)\n",
    "    \n",
    "    for i in range(0,iteration):\n",
    "        #ileri-besleme\n",
    "        a2,cache=forward_propagation(x_train,parameters)\n",
    "        #maliyet hesabı\n",
    "        cost=computeCost(a2,y)\n",
    "        #geri-besleme\n",
    "        grads=backward_propagation(parameters,cache,x_train,y_train)\n",
    "        #update parameters\n",
    "        parameters=update_parameters(parameters,grads)\n",
    "        \n",
    "        \n",
    "        if i % 10==0:\n",
    "            costList.append(cost)\n",
    "            indexList.append(i)\n",
    "            print(\"İterasyon:%i Maliyet: %f\"%(i,cost))\n",
    "            \n",
    "    plt.plot(indexList,costList)\n",
    "    plt.xticks(indexList,rotation='vertical')\n",
    "    plt.xlabel(\"İterasyon Sayısı\")\n",
    "    plt.ylabel(\"Maliyet\")\n",
    "    plt.show()\n",
    "    \n",
    "    #tahmin \n",
    "    y_tahmin_test=prediction(parameters,x_test)\n",
    "    y_tahmin_train=prediction(parameters,x_train)\n",
    "    \n",
    "    #Train/test hatalarını yazma\n",
    "    print(\"train doğruluğu:{} %\".format(100-np.mean(np.abs(y_tahmin_train-y_train))*100))\n",
    "    print(\"test doğruluğu:{} %\".format(100-np.mean(np.abs(y_tahmin_test-y_test))*100))\n",
    "    return parameters,y_tahmin_test\n",
    "   \n",
    "def plot_confusion_matrix(cm, title='Confusion matrix', cmap=plt.cm.Blues):\n",
    "    plt.imshow(cm, interpolation='nearest', cmap=cmap)\n",
    "    plt.title(title)\n",
    "    plt.colorbar()\n",
    "    tick_marks = np.arange(2)\n",
    "    plt.xticks(tick_marks, [0,1])\n",
    "    plt.yticks(tick_marks, [0,1])\n",
    "    plt.tight_layout()\n",
    "    plt.ylabel('Beklenen Değer')\n",
    "    plt.xlabel('Tahmin Edilen Değer')\n",
    "\n",
    "\n",
    "    \n",
    "            \n",
    "\n",
    "\n",
    "\n",
    "parameters,y_tahmin_test=ikiKatmanlıYsa(x_train,y_train,x_test,y_test,iteration=150,hidden_layer_size=13)\n",
    "\n",
    "\n"
   ]
  },
  {
   "cell_type": "code",
   "execution_count": 126,
   "metadata": {
    "scrolled": false
   },
   "outputs": [
    {
     "name": "stdout",
     "output_type": "stream",
     "text": [
      "[[1. 0. 1. 1. 1. 1. 1. 1. 1. 1. 1. 1. 1. 1. 1. 1. 1. 1. 1. 1. 1. 1. 1. 1.\n",
      "  1. 1. 1. 1. 1. 1. 1. 1. 1. 1. 1. 1. 1. 1. 1. 1.]]\n"
     ]
    },
    {
     "data": {
      "image/png": "[encoded data removed]",
      "text/plain": [
       "<Figure size 432x288 with 2 Axes>"
      ]
     },
     "metadata": {
      "needs_background": "light"
     },
     "output_type": "display_data"
    }
   ],
   "source": [
    "print(y_tahmin_test)\n",
    "result =confusion_matrix(np.squeeze(y_test),np.squeeze(y_tahmin_test))\n",
    "plot_confusion_matrix(result)\n",
    "\n"
   ]
  },
  {
   "cell_type": "code",
   "execution_count": 127,
   "metadata": {},
   "outputs": [
    {
     "data": {
      "image/png": "[encoded data removed]",
      "text/plain": [
       "<Figure size 504x360 with 1 Axes>"
      ]
     },
     "metadata": {
      "needs_background": "light"
     },
     "output_type": "display_data"
    },
    {
     "name": "stdout",
     "output_type": "stream",
     "text": [
      "Doğruluk  0.525\n"
     ]
    }
   ],
   "source": [
    "from sklearn.metrics import roc_curve\n",
    "from sklearn.metrics import roc_auc_score\n",
    "\n",
    "def plot_roc_curve(fpr, tpr, auc_score):\n",
    "    plt.plot(fpr, tpr, color='orange', label='ROC')\n",
    "    plt.plot([0, 1], [0, 1], color='darkblue', linestyle='--')\n",
    "    plt.xlabel('Yanlış Pozitif Oran')\n",
    "    plt.ylabel('Doğru Pozitif Oran')\n",
    "    plt.title('ROC EĞRİSİ'.format(auc_score))\n",
    "    plt.legend()\n",
    "    plt.show()\n",
    "    \n",
    "     \n",
    "a=np.squeeze(y_test)\n",
    "b=np.squeeze(y_tahmin_test)\n",
    "auc_score = roc_auc_score(a,b)\n",
    "fpr, tpr, thresholds = roc_curve(a,b)\n",
    "plt.figure(figsize=(7, 5))\n",
    "plot_roc_curve(fpr, tpr, auc_score)\n",
    "plt.show()\n",
    "print(\"Doğruluk \",auc_score)"
   ]
  },
  {
   "cell_type": "code",
   "execution_count": null,
   "metadata": {},
   "outputs": [],
   "source": []
  },
  {
   "cell_type": "code",
   "execution_count": null,
   "metadata": {},
   "outputs": [],
   "source": []
  }
 ],
 "metadata": {
  "kernelspec": {
   "display_name": "Python 3",
   "language": "python",
   "name": "python3"
  },
  "language_info": {
   "codemirror_mode": {
    "name": "ipython",
    "version": 3
   },
   "file_extension": ".py",
   "mimetype": "text/x-python",
   "name": "python",
   "nbconvert_exporter": "python",
   "pygments_lexer": "ipython3",
   "version": "3.7.1"
  }
 },
 "nbformat": 4,
 "nbformat_minor": 2
}
